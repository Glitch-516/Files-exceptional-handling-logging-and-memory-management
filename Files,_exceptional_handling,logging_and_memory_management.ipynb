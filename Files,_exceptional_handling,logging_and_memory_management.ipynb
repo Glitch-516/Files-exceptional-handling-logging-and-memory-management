{
  "nbformat": 4,
  "nbformat_minor": 0,
  "metadata": {
    "colab": {
      "provenance": []
    },
    "kernelspec": {
      "name": "python3",
      "display_name": "Python 3"
    },
    "language_info": {
      "name": "python"
    }
  },
  "cells": [
    {
      "cell_type": "code",
      "execution_count": null,
      "metadata": {
        "id": "IxQpxFLHvAxl"
      },
      "outputs": [],
      "source": []
    },
    {
      "cell_type": "markdown",
      "source": [
        "# Files, exceptional handling,logging and memory management"
      ],
      "metadata": {
        "id": "EbmNK2Zv05vE"
      }
    },
    {
      "cell_type": "markdown",
      "source": [
        "\n",
        "#1. What is the difference between interpreted and compiled languages?\n",
        "- Interpreted languages (like Python) run code line by line via an interpreter.\n",
        "\n",
        "- Compiled languages (like C++) are translated into machine code before execution.\n",
        "\n",
        "- Example: Python → Interpreted,    C++ → Compiled\n",
        "\n",
        "\n",
        "#2. What is exception handling in Python?\n",
        "- It allows a program to respond to runtime errors gracefully using try, except, finally, and else blocks.\n",
        "\n",
        "#3. What is the purpose of the `finally` block in exception handling?\n",
        "- It executes regardless of whether an exception was raised or not. Typically used to clean up resources.\n",
        "\n",
        "#4. What is logging in Python?\n",
        "- It is the process of recording events, errors, and informational messages during program execution using the logging module.\n",
        "\n",
        "#5. What is the significance of the `__del__` method in Python?\n",
        "- It is a destructor method called when an object is about to be destroyed. Used for cleanup tasks.\n",
        "\n",
        "#6. What is the difference between `import` and `from ... import` in Python?\n",
        "\n",
        "- import module imports the whole module.\n",
        "\n",
        "- from module import x imports only specific objects (like a function or class).\n",
        "\n",
        "\n",
        "#7. How can you handle multiple exceptions in Python?\n",
        "\n",
        "- Use a tuple or multiple except blocks:\n",
        "\n",
        "- try:\n",
        "    # code\n",
        "except (ValueError, TypeError):\n",
        "    # handle both\n",
        "\n",
        "#8. What is the purpose of the `with` statement when handling files in Python?\n",
        "\n",
        "- It automatically manages resources (like file closing), even if an error occurs.\n",
        "\n",
        "- with open(\"file.txt\") as f:\n",
        "    - data = f.read()\n",
        "\n",
        "\n",
        "#9. What is the difference between multithreading and multiprocessing?\n",
        "\n",
        "- Multithreading: Multiple threads, shared memory.\n",
        "\n",
        "- Multiprocessing: Multiple processes, separate memory space.\n",
        "\n",
        "\n",
        "#10. What are the advantages of using logging in a program?\n",
        "\n",
        "- Tracks events\n",
        "\n",
        "- Debugging aid\n",
        "\n",
        "- Helps monitor application health\n",
        "\n",
        "- Avoids using print() in production\n",
        "\n",
        "\n",
        "#11. What is memory management in Python?\n",
        "- Handled automatically using:\n",
        "\n",
        "- Reference counting\n",
        "\n",
        "- Garbage collection\n",
        "\n",
        "\n",
        "#12. What are the basic steps involved in exception handling in Python?\n",
        "\n",
        "- try block with risky code\n",
        "\n",
        "- except block to handle exceptions\n",
        "\n",
        "- Optional else for success path\n",
        "\n",
        "#13. Why is memory management important in Python?\n",
        "\n",
        "- It ensures efficient use of memory, prevents memory leaks, and improves performance.\n",
        "\n",
        "#14. What is the role of `try` and `except` in exception handling?\n",
        "\n",
        "- try: Holds code that might cause an exception.\n",
        "\n",
        "- except: Handles the exception if one occurs.\n",
        "\n",
        "\n",
        "#15. How does Python's garbage collection system work?\n",
        "\n",
        "- Uses reference counting and cyclic garbage collector to automatically clean unused objects.\n",
        "\n",
        "#16. What is the purpose of the `else` block in exception handling?\n",
        "\n",
        "- Runs only if no exception was raised in the try block.\n",
        "\n",
        "\n",
        "#17. What are the common logging levels in Python?\n",
        "\n",
        "- DEBUG: Detailed information\n",
        "\n",
        "- INFO: General events\n",
        "\n",
        "- WARNING: Something unexpected\n",
        "\n",
        "- ERROR: A serious problem\n",
        "\n",
        "- CRITICAL: Severe error\n",
        "\n",
        "#18. What is the difference between `os.fork()` and `multiprocessing` in Python?\n",
        "\n",
        "- os.fork(): Unix-only low-level process creation.\n",
        "\n",
        "- multiprocessing: Cross-platform, high-level API for process-based parallelism.\n",
        "\n",
        "\n",
        "#19. What is the importance of closing a file in Python?\n",
        "\n",
        "- Releases system resources and ensures data is flushed to disk.\n",
        "\n",
        "#20. What is the difference between `file.read()` and `file.readline()` in Python?\n",
        "\n",
        "- read(): Reads entire file or n bytes.\n",
        "\n",
        "- readline(): Reads one line at a time.\n",
        "\n",
        "#21. What is the `logging` module in Python used for?\n",
        "\n",
        "- Logs messages for debugging, error tracking, and status reporting.\n",
        "\n",
        "#22. What is the `os` module in Python used for in file handling?\n",
        "\n",
        "- Performs file and directory operations like os.remove(), os.rename(), os.path.exists().\n",
        "\n",
        "#23. What are the challenges associated with memory management in Python?\n",
        "\n",
        "- Circular references, memory leaks via global/static references, inefficient object reuse.\n",
        "\n",
        "#24. How do you raise an exception manually in Python?\n",
        "\n",
        "- raise ValueError(\"Invalid input\")\n",
        "\n",
        "#25. Why is it important to use multithreading in certain applications?\n",
        "\n",
        "- Multithreading is important in certain applications because it allows multiple tasks to run concurrently within a single process, improving efficiency and responsiveness—especially for I/O-bound operations.\n",
        "\n"
      ],
      "metadata": {
        "id": "0u-7oFk3zSFh"
      }
    },
    {
      "cell_type": "markdown",
      "source": [
        "# Practical Questions"
      ],
      "metadata": {
        "id": "43bci98r5MoR"
      }
    },
    {
      "cell_type": "code",
      "source": [
        "# 1. How can you open a file for writing in Python and write a string to it?\n",
        "\n",
        "\n",
        "with open(\"example.txt\", \"w\") as file:\n",
        "  file.write(\"Hello, this is a test.\")\n",
        "\n"
      ],
      "metadata": {
        "id": "1ShZZSSB5L84"
      },
      "execution_count": 6,
      "outputs": []
    },
    {
      "cell_type": "code",
      "source": [
        "# 2.  Write a Python program to read the contents of a file and print each line?\n",
        "\n",
        "with open(\"example.txt\", \"r\") as file:\n",
        "    for line in file:\n",
        "        print(line.strip())\n",
        "\n",
        "\n",
        "\n"
      ],
      "metadata": {
        "colab": {
          "base_uri": "https://localhost:8080/"
        },
        "id": "WinsLsNz5xyU",
        "outputId": "9c54607f-69b0-4c47-ab03-6ae42c146fe2"
      },
      "execution_count": 4,
      "outputs": [
        {
          "output_type": "stream",
          "name": "stdout",
          "text": [
            "Hello, this is a test.\n"
          ]
        }
      ]
    },
    {
      "cell_type": "code",
      "source": [
        "# 3. How would you handle a case where the file doesn't exist while trying to open it for reading?\n",
        "\n",
        "\n",
        "try:\n",
        "    with open(\"nofile.txt\", \"r\") as file:\n",
        "        content = file.read()\n",
        "except FileNotFoundError:\n",
        "    print(\"File not found.\")\n"
      ],
      "metadata": {
        "colab": {
          "base_uri": "https://localhost:8080/"
        },
        "id": "Ywr5LC3q6Fw6",
        "outputId": "3e149235-90df-4f9b-f64e-b9d960606a5e"
      },
      "execution_count": 7,
      "outputs": [
        {
          "output_type": "stream",
          "name": "stdout",
          "text": [
            "File not found.\n"
          ]
        }
      ]
    },
    {
      "cell_type": "code",
      "source": [
        "# 4. Write a Python script that reads from one file and writes its content to another file?\n",
        "\n",
        "with open(\"example.txt\", \"r\") as source_file:\n",
        "    content = source_file.read()\n",
        "\n",
        "with open(\"copy.txt\", \"w\") as target_file:\n",
        "    target_file.write(content)\n",
        "\n"
      ],
      "metadata": {
        "id": "XZ3i5xVk6Uxn"
      },
      "execution_count": 12,
      "outputs": []
    },
    {
      "cell_type": "code",
      "source": [
        "# 5. How would you catch and handle division by zero error in Python?\n",
        "\n",
        "\n",
        "try:\n",
        "    result = 10 / 0\n",
        "except ZeroDivisionError:\n",
        "    print(\"Cannot divide by zero.\")\n"
      ],
      "metadata": {
        "colab": {
          "base_uri": "https://localhost:8080/"
        },
        "id": "XeArWgRe6dve",
        "outputId": "2ab24c19-656b-450c-fdd3-9ec03cd7c79b"
      },
      "execution_count": 13,
      "outputs": [
        {
          "output_type": "stream",
          "name": "stdout",
          "text": [
            "Cannot divide by zero.\n"
          ]
        }
      ]
    },
    {
      "cell_type": "code",
      "source": [
        "# 6. Write a Python program that logs an error message to a log file when a division by zero exception occurs?\n",
        "\n",
        "import logging\n",
        "\n",
        "logging.basicConfig(filename=\"error.log\", level=logging.ERROR)\n",
        "\n",
        "try:\n",
        "    result = 10 / 0\n",
        "except ZeroDivisionError:\n",
        "    logging.error(\"Division by zero error occurred.\")"
      ],
      "metadata": {
        "colab": {
          "base_uri": "https://localhost:8080/"
        },
        "id": "kMfUx9w-67I3",
        "outputId": "13a18278-cac0-422b-de8f-e310106fa777"
      },
      "execution_count": 14,
      "outputs": [
        {
          "output_type": "stream",
          "name": "stderr",
          "text": [
            "ERROR:root:Division by zero error occurred.\n"
          ]
        }
      ]
    },
    {
      "cell_type": "code",
      "source": [
        "# 7. How do you log information at different levels (INFO, ERROR, WARNING) in Python using the logging module?\n",
        "\n",
        "import logging\n",
        "\n",
        "logging.basicConfig(filename=\"log.txt\", level=logging.INFO)\n",
        "\n",
        "logging.info(\"This is an info message.\")\n",
        "logging.error(\"This is an error message.\")\n",
        "logging.warning(\"This is a warning message.\")"
      ],
      "metadata": {
        "colab": {
          "base_uri": "https://localhost:8080/"
        },
        "id": "XK_7-6lt7BeF",
        "outputId": "db8ac499-df3a-413a-d87a-931b60aab6b7"
      },
      "execution_count": 15,
      "outputs": [
        {
          "output_type": "stream",
          "name": "stderr",
          "text": [
            "ERROR:root:This is an error message.\n",
            "WARNING:root:This is a warning message.\n"
          ]
        }
      ]
    },
    {
      "cell_type": "code",
      "source": [
        "# 8. Write a program to handle a file opening error using exception handling?\n",
        "\n",
        "try:\n",
        "    with open(\"nofile.txt\", \"r\") as file:\n",
        "        content = file.read()\n",
        "except FileNotFoundError:\n",
        "    print(\"File not found.\")"
      ],
      "metadata": {
        "colab": {
          "base_uri": "https://localhost:8080/"
        },
        "id": "W_HcJ2v37Itn",
        "outputId": "12c0b0ab-5b85-42c3-c80d-b2b324c2964b"
      },
      "execution_count": 16,
      "outputs": [
        {
          "output_type": "stream",
          "name": "stdout",
          "text": [
            "File not found.\n"
          ]
        }
      ]
    },
    {
      "cell_type": "code",
      "source": [
        "# 9. How can you read a file line by line and store its content in a list in Python?\n",
        "\n",
        "with open(\"example.txt\", \"r\") as file:\n",
        "    lines = file.readlines()\n",
        "\n",
        "for line in lines:\n",
        "    print(line.strip())"
      ],
      "metadata": {
        "colab": {
          "base_uri": "https://localhost:8080/"
        },
        "id": "wvKSS5wP7S7i",
        "outputId": "8b863b01-e830-425c-f0ec-5762eb31f087"
      },
      "execution_count": 17,
      "outputs": [
        {
          "output_type": "stream",
          "name": "stdout",
          "text": [
            "Hello, this is a test.\n"
          ]
        }
      ]
    },
    {
      "cell_type": "code",
      "source": [
        "# 10. How can you append data to an existing file in Python?\n",
        "\n",
        "with open(\"example.txt\", \"a\") as file:\n",
        "    file.write(\"\\nAppended line.\")"
      ],
      "metadata": {
        "id": "7ZpYmIAg7dzX"
      },
      "execution_count": 20,
      "outputs": []
    },
    {
      "cell_type": "code",
      "source": [
        "# 11. Write a Python program that uses a try-except block to handle an error when attempting to access a dictionary key that doesn't exist?\n",
        "\n",
        "try:\n",
        "    my_dict = {\"a\": 1}\n",
        "    print(my_dict[\"b\"])\n",
        "except KeyError:\n",
        "    print(\"Key not found.\")\n",
        "\n"
      ],
      "metadata": {
        "colab": {
          "base_uri": "https://localhost:8080/"
        },
        "id": "Z3y8uaca7jxA",
        "outputId": "5c78b6b5-b679-4883-e27d-32dc338fad72"
      },
      "execution_count": 21,
      "outputs": [
        {
          "output_type": "stream",
          "name": "stdout",
          "text": [
            "Key not found.\n"
          ]
        }
      ]
    },
    {
      "cell_type": "code",
      "source": [
        "# 12. Write a program that demonstrates using multiple except blocks to handle different types of exceptions?\n",
        "\n",
        "try:\n",
        "    x = int(\"hello\")\n",
        "except ValueError:\n",
        "    print(\"Invalid value.\")\n",
        "except TypeError:\n",
        "    print(\"Type error.\")\n",
        "\n"
      ],
      "metadata": {
        "colab": {
          "base_uri": "https://localhost:8080/"
        },
        "id": "ujLmgIEq75dj",
        "outputId": "3575240e-b965-44aa-b997-765553a93665"
      },
      "execution_count": 23,
      "outputs": [
        {
          "output_type": "stream",
          "name": "stdout",
          "text": [
            "Invalid value.\n"
          ]
        }
      ]
    },
    {
      "cell_type": "code",
      "source": [
        "# 13. How would you check if a file exists before attempting to read it in Python?\n",
        "\n",
        "import os\n",
        "\n",
        "if os.path.exists(\"example.txt\"):\n",
        "    with open(\"example.txt\", \"r\") as file:\n",
        "        content = file.read()\n",
        "        print(content)\n",
        "else:\n",
        "    print(\"File not found.\")\n"
      ],
      "metadata": {
        "colab": {
          "base_uri": "https://localhost:8080/"
        },
        "id": "00qYMESj7-Yk",
        "outputId": "e6521b5d-29b2-4af7-c319-96855be61d57"
      },
      "execution_count": 24,
      "outputs": [
        {
          "output_type": "stream",
          "name": "stdout",
          "text": [
            "Hello, this is a test.\n",
            "Appended line.\n",
            "Appended line.\n"
          ]
        }
      ]
    },
    {
      "cell_type": "code",
      "source": [
        "# 14. Write a program that uses the logging module to log both informational and error messages?\n",
        "\n",
        "import logging\n",
        "\n",
        "logging.basicConfig(filename=\"log.txt\", level=logging.INFO)\n",
        "\n",
        "logging.info(\"This is an info message.\")\n",
        "logging.error(\"This is an error message.\")"
      ],
      "metadata": {
        "colab": {
          "base_uri": "https://localhost:8080/"
        },
        "id": "yWYpLIog8SOU",
        "outputId": "34b45ccd-35b5-462d-98b5-ec8446304ee2"
      },
      "execution_count": 25,
      "outputs": [
        {
          "output_type": "stream",
          "name": "stderr",
          "text": [
            "ERROR:root:This is an error message.\n"
          ]
        }
      ]
    },
    {
      "cell_type": "code",
      "source": [
        "# 15. Write a Python program that prints the content of a file and handles the case when the file is empty?\n",
        "\n",
        "with open(\"example.txt\", \"r\") as file:\n",
        "    content = file.read()\n",
        "    if not content:\n",
        "        print(\"File is empty.\")\n",
        "    else:\n",
        "        print(content)\n"
      ],
      "metadata": {
        "colab": {
          "base_uri": "https://localhost:8080/"
        },
        "id": "NJ2e690i8m24",
        "outputId": "6e396ed3-e711-495c-ea6e-0123332f0f66"
      },
      "execution_count": 28,
      "outputs": [
        {
          "output_type": "stream",
          "name": "stdout",
          "text": [
            "Hello, this is a test.\n",
            "Appended line.\n",
            "Appended line.\n"
          ]
        }
      ]
    },
    {
      "cell_type": "code",
      "source": [
        "# 16. Demonstrate how to use memory profiling to check the memory usage of a small program?\n",
        "\n",
        "# Install memory_profiler first: pip install memory-profiler\n",
        "from memory_profiler import profile\n",
        "\n",
        "@profile\n",
        "def create_list():\n",
        "    return [i for i in range(10000)]\n",
        "\n",
        "create_list()\n",
        "\n"
      ],
      "metadata": {
        "colab": {
          "base_uri": "https://localhost:8080/",
          "height": 400
        },
        "collapsed": true,
        "id": "4oVv5Z--8vCE",
        "outputId": "b2b22c88-553d-4397-d8f0-0e6546c6a3c6"
      },
      "execution_count": 33,
      "outputs": [
        {
          "output_type": "error",
          "ename": "ModuleNotFoundError",
          "evalue": "No module named 'memory_profiler'",
          "traceback": [
            "\u001b[0;31m---------------------------------------------------------------------------\u001b[0m",
            "\u001b[0;31mModuleNotFoundError\u001b[0m                       Traceback (most recent call last)",
            "\u001b[0;32m<ipython-input-33-dabb200161df>\u001b[0m in \u001b[0;36m<cell line: 0>\u001b[0;34m()\u001b[0m\n\u001b[1;32m      2\u001b[0m \u001b[0;34m\u001b[0m\u001b[0m\n\u001b[1;32m      3\u001b[0m \u001b[0;31m# Install memory_profiler first: pip install memory-profiler\u001b[0m\u001b[0;34m\u001b[0m\u001b[0;34m\u001b[0m\u001b[0m\n\u001b[0;32m----> 4\u001b[0;31m \u001b[0;32mfrom\u001b[0m \u001b[0mmemory_profiler\u001b[0m \u001b[0;32mimport\u001b[0m \u001b[0mprofile\u001b[0m\u001b[0;34m\u001b[0m\u001b[0;34m\u001b[0m\u001b[0m\n\u001b[0m\u001b[1;32m      5\u001b[0m \u001b[0;34m\u001b[0m\u001b[0m\n\u001b[1;32m      6\u001b[0m \u001b[0;34m@\u001b[0m\u001b[0mprofile\u001b[0m\u001b[0;34m\u001b[0m\u001b[0;34m\u001b[0m\u001b[0m\n",
            "\u001b[0;31mModuleNotFoundError\u001b[0m: No module named 'memory_profiler'",
            "",
            "\u001b[0;31m---------------------------------------------------------------------------\u001b[0;32m\nNOTE: If your import is failing due to a missing package, you can\nmanually install dependencies using either !pip or !apt.\n\nTo view examples of installing some common dependencies, click the\n\"Open Examples\" button below.\n\u001b[0;31m---------------------------------------------------------------------------\u001b[0m\n"
          ],
          "errorDetails": {
            "actions": [
              {
                "action": "open_url",
                "actionText": "Open Examples",
                "url": "/notebooks/snippets/importing_libraries.ipynb"
              }
            ]
          }
        }
      ]
    },
    {
      "cell_type": "code",
      "source": [
        "# 17. Write a Python program to create and write a list of numbers to a file, one number per line?\n",
        "\n",
        "numbers = [1, 2, 3, 4, 5]\n",
        "with open(\"numbers.txt\", \"w\") as file:\n",
        "  for num in numbers:\n",
        "    file.write(str(num) + \"\\n\")\n",
        "\n"
      ],
      "metadata": {
        "id": "KKwcKSQA9CTI"
      },
      "execution_count": 41,
      "outputs": []
    },
    {
      "cell_type": "code",
      "source": [
        "# 18.  How would you implement a basic logging setup that logs to a file with rotation after 1MB?\n",
        "\n",
        "import logging\n",
        "from logging.handlers import RotatingFileHandler\n",
        "\n",
        "handler = RotatingFileHandler(\"rotating.log\", maxBytes=1024*1024, backupCount=3)\n",
        "logger = logging.getLogger()\n",
        "logger.setLevel(logging.INFO)\n",
        "logger.addHandler(handler)\n",
        "\n",
        "logger.info(\"This is a log message.\")\n"
      ],
      "metadata": {
        "colab": {
          "base_uri": "https://localhost:8080/"
        },
        "id": "3B9aRT1T9xlO",
        "outputId": "d1d732b5-9bc8-48bf-95c7-bce4f3023558"
      },
      "execution_count": 42,
      "outputs": [
        {
          "output_type": "stream",
          "name": "stderr",
          "text": [
            "INFO:root:This is a log message.\n"
          ]
        }
      ]
    },
    {
      "cell_type": "code",
      "source": [
        "# 19. Write a program that handles both IndexError and KeyError using a try-except block?\n",
        "\n",
        "try:\n",
        "    lst = [1, 2, 3]\n",
        "    print(lst[5])\n",
        "    d = {\"a\": 1}\n",
        "    print(d[\"b\"])\n",
        "except IndexError:\n",
        "    print(\"Index error.\")\n",
        "except KeyError:\n",
        "    print(\"Key error.\")\n"
      ],
      "metadata": {
        "colab": {
          "base_uri": "https://localhost:8080/"
        },
        "id": "6z0Pm6l2-Wmk",
        "outputId": "754fb09f-1d44-4274-8ddf-247fc9e15c7a"
      },
      "execution_count": 43,
      "outputs": [
        {
          "output_type": "stream",
          "name": "stdout",
          "text": [
            "Index error.\n"
          ]
        }
      ]
    },
    {
      "cell_type": "code",
      "source": [
        "# 20. How would you open a file and read its contents using a context manager in Python?\n",
        "\n",
        "with open(\"example.txt\", \"r\") as file:\n",
        "    content = file.read()\n",
        "    print(content)\n"
      ],
      "metadata": {
        "colab": {
          "base_uri": "https://localhost:8080/"
        },
        "id": "reU8rQZP-jJS",
        "outputId": "4d4b3bfe-6fbc-45ee-d25b-c97cc75dac10"
      },
      "execution_count": 45,
      "outputs": [
        {
          "output_type": "stream",
          "name": "stdout",
          "text": [
            "Hello, this is a test.\n",
            "Appended line.\n",
            "Appended line.\n"
          ]
        }
      ]
    },
    {
      "cell_type": "code",
      "source": [
        "# 21. Write a Python program that reads a file and prints the number of occurrences of a specific word?\n",
        "\n",
        "word = \"python\"\n",
        "with open(\"example.txt\", \"r\") as file:\n",
        "    content = file.read()\n",
        "    count = content.lower().count(word.lower())\n",
        "    print(f\"'{word}' found {count} times.\")\n"
      ],
      "metadata": {
        "colab": {
          "base_uri": "https://localhost:8080/"
        },
        "id": "xV1c6qvG-twH",
        "outputId": "f5520fdc-44bb-4063-93b6-1e4f14e86f26"
      },
      "execution_count": 46,
      "outputs": [
        {
          "output_type": "stream",
          "name": "stdout",
          "text": [
            "'python' found 0 times.\n"
          ]
        }
      ]
    },
    {
      "cell_type": "code",
      "source": [
        "# 22. How can you check if a file is empty before attempting to read its contents?\n",
        "\n",
        "import os\n",
        "\n",
        "if os.path.getsize(\"example.txt\") == 0:\n",
        "    print(\"File is empty.\")\n",
        "else:\n",
        "    print(\"File has content.\")\n"
      ],
      "metadata": {
        "colab": {
          "base_uri": "https://localhost:8080/"
        },
        "id": "29mhHNEU-9x2",
        "outputId": "dda206aa-5754-4529-ae9c-8324d9412386"
      },
      "execution_count": 49,
      "outputs": [
        {
          "output_type": "stream",
          "name": "stdout",
          "text": [
            "File has content.\n"
          ]
        }
      ]
    },
    {
      "cell_type": "code",
      "source": [
        "# 23. Write a Python program that writes to a log file when an error occurs during file handling.\n",
        "\n",
        "import logging\n",
        "\n",
        "logging.basicConfig(filename=\"file_error.log\", level=logging.ERROR)\n",
        "\n",
        "try:\n",
        "    with open(\"unknown.txt\", \"r\") as file:\n",
        "        content = file.read()\n",
        "except FileNotFoundError as e:\n",
        "    logging.error(\"Error reading file: %s\", e)\n"
      ],
      "metadata": {
        "colab": {
          "base_uri": "https://localhost:8080/"
        },
        "id": "MgSpNiSl_Gup",
        "outputId": "1c15e789-4e69-440a-b5e8-45caba770f7a"
      },
      "execution_count": 50,
      "outputs": [
        {
          "output_type": "stream",
          "name": "stderr",
          "text": [
            "ERROR:root:Error reading file: [Errno 2] No such file or directory: 'unknown.txt'\n"
          ]
        }
      ]
    },
    {
      "cell_type": "code",
      "source": [],
      "metadata": {
        "id": "JhM2c1i1_ZNj"
      },
      "execution_count": null,
      "outputs": []
    }
  ]
}